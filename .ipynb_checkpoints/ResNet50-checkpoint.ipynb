{
 "cells": [
  {
   "cell_type": "code",
   "execution_count": 147,
   "id": "69df0809",
   "metadata": {},
   "outputs": [],
   "source": [
    "import matplotlib.pyplot as plt\n",
    "import numpy as np\n",
    "import PIL\n",
    "import tensorflow as tf\n",
    "from tensorflow.keras import layers\n",
    "from keras.layers.core import Dense,Flatten\n",
    "from tensorflow.keras.models import Sequential\n",
    "from tensorflow.keras.optimizers import Adam\n",
    "from PIL import Image\n",
    "import glob\n",
    "import os, shutil\n"
   ]
  },
  {
   "cell_type": "code",
   "execution_count": 148,
   "id": "42deda00",
   "metadata": {},
   "outputs": [],
   "source": [
    "data_dir = '/Users/Monsef/Downloads/cinic-10_image_classification_challenge-dataset/lowdata'"
   ]
  },
  {
   "cell_type": "code",
   "execution_count": 149,
   "id": "b649b337",
   "metadata": {},
   "outputs": [],
   "source": [
    "# subfolders = [ f.path for f in os.scandir(data_dir) if f.is_dir() ]\n",
    "# for folder in list(subfolders):  \n",
    "\n",
    "#     source = folder               # files location\n",
    "#     destination = folder+\"/lowdata\"            # where to move to \n",
    "#     folder = os.listdir(source)               # returns a list with all the files in source\n",
    "#     while folder:                             # True if there are any files, False if empty list\n",
    "#        for i in range(5):                     # 5 files at a time \n",
    "#           file = folder[0]                    # select the first file's name\n",
    "#           curr_file = source + '/' + file    # creates a string - full path to the file\n",
    "#           shutil.move(curr_file, destination) # move the files\n",
    "#           folder.pop(0)                       # Remove the moved file from the list\n"
   ]
  },
  {
   "cell_type": "code",
   "execution_count": 150,
   "id": "fd77d481",
   "metadata": {},
   "outputs": [],
   "source": [
    "# def get_data(data_dir):\n",
    "#     image_list = []\n",
    "#     classname = \"\"\n",
    "#     subfolders = [ f.path for f in os.scandir(data_dir) if f.is_dir() ]\n",
    "#     for foldername in list(subfolers)\n",
    "#         for filename in glob.glob(foldername + \"/*.png\"): \n",
    "#             im=Image.open(filename)\n",
    "#             image_list.append(im)\n",
    "#             return image_list"
   ]
  },
  {
   "cell_type": "code",
   "execution_count": 151,
   "id": "01b7ea42",
   "metadata": {},
   "outputs": [
    {
     "name": "stdout",
     "output_type": "stream",
     "text": [
      "Found 21386 files belonging to 10 classes.\n",
      "Using 17109 files for training.\n"
     ]
    }
   ],
   "source": [
    "img_height,img_width=180,180\n",
    "batch_size=32\n",
    "train_ds = tf.keras.preprocessing.image_dataset_from_directory(\n",
    "  data_dir,\n",
    "  validation_split=0.2,\n",
    "  subset=\"training\",\n",
    "  seed=123,\n",
    "  label_mode=\"categorical\",\n",
    "  image_size=(img_height, img_width),\n",
    "  batch_size=batch_size)"
   ]
  },
  {
   "cell_type": "code",
   "execution_count": 152,
   "id": "be0630c1",
   "metadata": {},
   "outputs": [
    {
     "name": "stdout",
     "output_type": "stream",
     "text": [
      "['airplane', 'automobile', 'bird', 'cat', 'deer', 'dog', 'frog', 'horse', 'ship', 'truck']\n"
     ]
    }
   ],
   "source": [
    "class_names = train_ds.class_names\n",
    "print(class_names)"
   ]
  },
  {
   "cell_type": "code",
   "execution_count": 153,
   "id": "d545deb0",
   "metadata": {},
   "outputs": [
    {
     "name": "stdout",
     "output_type": "stream",
     "text": [
      "Found 21386 files belonging to 10 classes.\n",
      "Using 4277 files for validation.\n"
     ]
    }
   ],
   "source": [
    "val_ds = tf.keras.preprocessing.image_dataset_from_directory(\n",
    "  data_dir,\n",
    "  validation_split=0.2,\n",
    "  subset=\"validation\",\n",
    "  label_mode=\"categorical\",\n",
    "  seed=123,\n",
    "  image_size=(img_height, img_width),\n",
    "  batch_size=batch_size)"
   ]
  },
  {
   "cell_type": "code",
   "execution_count": 154,
   "id": "274dfab5",
   "metadata": {},
   "outputs": [],
   "source": [
    "# import matplotlib.pyplot as plt\n",
    "\n",
    "# plt.figure(figsize=(10, 10))\n",
    "# for images, labels in train_ds.take(1):\n",
    "# print(labels)\n",
    "#   for i in range(9):\n",
    "#     ax = plt.subplot(3, 3, i + 1)\n",
    "#     plt.imshow(images[i].numpy().astype(\"uint8\"))\n",
    "#     plt.title(class_names[labels[i]])\n",
    "#     plt.axis(\"off\")"
   ]
  },
  {
   "cell_type": "code",
   "execution_count": 155,
   "id": "1d66eaae",
   "metadata": {},
   "outputs": [],
   "source": [
    "resnet_model = Sequential()\n",
    "\n",
    "pretrained_model= tf.keras.applications.ResNet50(include_top=False,\n",
    "                   input_shape=(180,180,3),\n",
    "                   pooling='avg',classes=10,\n",
    "                   weights='imagenet')\n",
    "for layer in pretrained_model.layers:\n",
    "        layer.trainable=False\n",
    "\n",
    "resnet_model.add(pretrained_model)\n",
    "resnet_model.add(Flatten())\n",
    "resnet_model.add(Dense(512, activation='relu'))\n",
    "resnet_model.add(Dense(10, activation='softmax'))"
   ]
  },
  {
   "cell_type": "code",
   "execution_count": 156,
   "id": "90d7663f",
   "metadata": {},
   "outputs": [
    {
     "name": "stdout",
     "output_type": "stream",
     "text": [
      "Model: \"sequential_8\"\n",
      "_________________________________________________________________\n",
      " Layer (type)                Output Shape              Param #   \n",
      "=================================================================\n",
      " resnet50 (Functional)       (None, 2048)              23587712  \n",
      "                                                                 \n",
      " flatten_7 (Flatten)         (None, 2048)              0         \n",
      "                                                                 \n",
      " dense_14 (Dense)            (None, 512)               1049088   \n",
      "                                                                 \n",
      " dense_15 (Dense)            (None, 10)                5130      \n",
      "                                                                 \n",
      "=================================================================\n",
      "Total params: 24,641,930\n",
      "Trainable params: 1,054,218\n",
      "Non-trainable params: 23,587,712\n",
      "_________________________________________________________________\n"
     ]
    }
   ],
   "source": [
    "resnet_model.summary()"
   ]
  },
  {
   "cell_type": "code",
   "execution_count": 157,
   "id": "bf39d99f",
   "metadata": {},
   "outputs": [],
   "source": [
    "resnet_model.compile(optimizer=Adam(learning_rate=0.001),loss='categorical_crossentropy',metrics=['accuracy'])"
   ]
  },
  {
   "cell_type": "code",
   "execution_count": 158,
   "id": "a4abca4c",
   "metadata": {},
   "outputs": [
    {
     "name": "stdout",
     "output_type": "stream",
     "text": [
      "Epoch 1/10\n",
      "535/535 [==============================] - 1898s 4s/step - loss: 0.7325 - accuracy: 0.7501 - val_loss: 0.5761 - val_accuracy: 0.7964\n",
      "Epoch 2/10\n",
      "535/535 [==============================] - 1642s 3s/step - loss: 0.4689 - accuracy: 0.8353 - val_loss: 0.5467 - val_accuracy: 0.8155\n",
      "Epoch 3/10\n",
      "535/535 [==============================] - 1520s 3s/step - loss: 0.3634 - accuracy: 0.8718 - val_loss: 0.5300 - val_accuracy: 0.8186\n",
      "Epoch 4/10\n",
      "535/535 [==============================] - 1605s 3s/step - loss: 0.2818 - accuracy: 0.9008 - val_loss: 0.5936 - val_accuracy: 0.8071\n",
      "Epoch 5/10\n",
      "535/535 [==============================] - 1596s 3s/step - loss: 0.2220 - accuracy: 0.9212 - val_loss: 0.6029 - val_accuracy: 0.8158\n",
      "Epoch 6/10\n",
      "535/535 [==============================] - 1576s 3s/step - loss: 0.1648 - accuracy: 0.9422 - val_loss: 0.6422 - val_accuracy: 0.8162\n",
      "Epoch 7/10\n",
      "535/535 [==============================] - 1554s 3s/step - loss: 0.1483 - accuracy: 0.9473 - val_loss: 0.7190 - val_accuracy: 0.8078\n",
      "Epoch 8/10\n",
      "535/535 [==============================] - 1959s 4s/step - loss: 0.0976 - accuracy: 0.9652 - val_loss: 0.6842 - val_accuracy: 0.8284\n",
      "Epoch 9/10\n",
      "535/535 [==============================] - 2021s 4s/step - loss: 0.0852 - accuracy: 0.9694 - val_loss: 0.7575 - val_accuracy: 0.8139\n",
      "Epoch 10/10\n",
      "535/535 [==============================] - 1992s 4s/step - loss: 0.0783 - accuracy: 0.9723 - val_loss: 0.8074 - val_accuracy: 0.8188\n",
      "--- 17422.700603961945 seconds ---\n"
     ]
    }
   ],
   "source": [
    "import time\n",
    "start_time = time.time()\n",
    "history = resnet_model.fit(train_ds, validation_data=val_ds, epochs=10)\n",
    "print(\"--- %s seconds ---\" % (time.time() - start_time))"
   ]
  },
  {
   "cell_type": "code",
   "execution_count": 159,
   "id": "5fb0b045",
   "metadata": {},
   "outputs": [
    {
     "data": {
      "image/png": "[encoded data removed]",
      "text/plain": [
       "<Figure size 432x288 with 1 Axes>"
      ]
     },
     "metadata": {
      "needs_background": "light"
     },
     "output_type": "display_data"
    }
   ],
   "source": [
    "fig1 = plt.gcf()\n",
    "plt.plot(history.history['accuracy'])\n",
    "plt.plot(history.history['val_accuracy'])\n",
    "plt.axis(ymin=0.4,ymax=1)\n",
    "plt.grid()\n",
    "plt.title('Model Accuracy')\n",
    "plt.ylabel('Accuracy')\n",
    "plt.xlabel('Epochs')\n",
    "plt.legend(['train', 'validation'])\n",
    "plt.show()"
   ]
  },
  {
   "cell_type": "code",
   "execution_count": 177,
   "id": "a4e80399",
   "metadata": {},
   "outputs": [
    {
     "data": {
      "image/png": "[encoded data removed]",
      "text/plain": [
       "<Figure size 432x288 with 1 Axes>"
      ]
     },
     "metadata": {
      "needs_background": "light"
     },
     "output_type": "display_data"
    }
   ],
   "source": [
    "import cv2\n",
    "test_data_dir = '/Users/Monsef/Downloads/cinic-10_image_classification_challenge-dataset/test/*'\n",
    "test_data = glob.glob(test_data_dir)\n",
    "image=cv2.imread(test_data[9])\n",
    "plt.imshow(image)\n",
    "image_resized= cv2.resize(image, (img_height,img_width))\n",
    "image=np.expand_dims(image_resized,axis=0)"
   ]
  },
  {
   "cell_type": "code",
   "execution_count": 178,
   "id": "a3f2db3e",
   "metadata": {},
   "outputs": [
    {
     "name": "stdout",
     "output_type": "stream",
     "text": [
      "1/1 [==============================] - 1s 664ms/step\n"
     ]
    }
   ],
   "source": [
    "pred=resnet_model.predict(image)"
   ]
  },
  {
   "cell_type": "code",
   "execution_count": 179,
   "id": "28f68691",
   "metadata": {},
   "outputs": [
    {
     "name": "stdout",
     "output_type": "stream",
     "text": [
      "The predicted class is bird\n"
     ]
    }
   ],
   "source": [
    "output_class=class_names[np.argmax(pred)]\n",
    "print(\"The predicted class is\", output_class)\n"
   ]
  },
  {
   "cell_type": "code",
   "execution_count": null,
   "id": "4932aae6",
   "metadata": {},
   "outputs": [],
   "source": []
  }
 ],
 "metadata": {
  "kernelspec": {
   "display_name": "Python 3",
   "language": "python",
   "name": "python3"
  },
  "language_info": {
   "codemirror_mode": {
    "name": "ipython",
    "version": 3
   },
   "file_extension": ".py",
   "mimetype": "text/x-python",
   "name": "python",
   "nbconvert_exporter": "python",
   "pygments_lexer": "ipython3",
   "version": "3.8.8"
  }
 },
 "nbformat": 4,
 "nbformat_minor": 5
}
