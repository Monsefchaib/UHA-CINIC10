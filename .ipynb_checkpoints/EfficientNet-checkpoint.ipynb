{
 "cells": [
  {
   "cell_type": "code",
   "execution_count": null,
   "metadata": {
    "id": "dlv-sNlmTgde"
   },
   "outputs": [],
   "source": [
    "import matplotlib.pyplot as plt\n",
    "import numpy as np\n",
    "import PIL\n",
    "import tensorflow as tf\n",
    "from tensorflow.keras import layers\n",
    "from keras.layers.core import Dense,Flatten\n",
    "from tensorflow.keras.models import Sequential\n",
    "from tensorflow.keras.optimizers import Adam\n",
    "from PIL import Image\n",
    "import glob\n",
    "import os, shutil\n"
   ]
  },
  {
   "cell_type": "code",
   "execution_count": null,
   "metadata": {
    "colab": {
     "base_uri": "https://localhost:8080/"
    },
    "id": "G-t2T0zkTo2z",
    "outputId": "8fbe8a6f-062c-4471-bac6-7a36a60f4f91"
   },
   "outputs": [
    {
     "name": "stdout",
     "output_type": "stream",
     "text": [
      "Mounted at /content/drive\n"
     ]
    }
   ],
   "source": [
    "# Load the Drive helper and mount\n",
    "from google.colab import drive\n",
    "\n",
    "# This will prompt for authorization.\n",
    "drive.mount('/content/drive')"
   ]
  },
  {
   "cell_type": "code",
   "execution_count": null,
   "metadata": {
    "id": "MISwHLZ7Tqyy"
   },
   "outputs": [],
   "source": [
    "data_dir = '/content/drive/MyDrive/lowdata'"
   ]
  },
  {
   "cell_type": "code",
   "execution_count": null,
   "metadata": {
    "colab": {
     "base_uri": "https://localhost:8080/"
    },
    "id": "QMCnemiPTyt1",
    "outputId": "ed4c8709-64a2-462d-dbd1-64561b2bc214"
   },
   "outputs": [
    {
     "name": "stdout",
     "output_type": "stream",
     "text": [
      "Found 21406 files belonging to 10 classes.\n",
      "Using 17125 files for training.\n"
     ]
    }
   ],
   "source": [
    "img_height,img_width=180,180\n",
    "batch_size=32\n",
    "train_ds = tf.keras.preprocessing.image_dataset_from_directory(\n",
    "  data_dir,\n",
    "  validation_split=0.2,\n",
    "  subset=\"training\",\n",
    "  seed=123,\n",
    "  label_mode=\"categorical\",\n",
    "  image_size=(img_height, img_width),\n",
    "  batch_size=batch_size)"
   ]
  },
  {
   "cell_type": "code",
   "execution_count": null,
   "metadata": {
    "colab": {
     "base_uri": "https://localhost:8080/"
    },
    "id": "VhaJx3B0T15-",
    "outputId": "845c49ed-f0fa-4ffe-e222-33bfa912c90a"
   },
   "outputs": [
    {
     "name": "stdout",
     "output_type": "stream",
     "text": [
      "Found 21406 files belonging to 10 classes.\n",
      "Using 4281 files for validation.\n"
     ]
    }
   ],
   "source": [
    "val_ds = tf.keras.preprocessing.image_dataset_from_directory(\n",
    "  data_dir,\n",
    "  validation_split=0.2,\n",
    "  subset=\"validation\",\n",
    "  label_mode=\"categorical\",\n",
    "  seed=123,\n",
    "  image_size=(img_height, img_width),\n",
    "  batch_size=batch_size)"
   ]
  },
  {
   "cell_type": "code",
   "execution_count": null,
   "metadata": {
    "id": "Yzir_Yt6T31l"
   },
   "outputs": [],
   "source": [
    "efficientNet_model = Sequential()\n",
    "\n",
    "pretrained_model= tf.keras.applications.EfficientNetB0(include_top=False,\n",
    "                   input_shape=(180,180,3),\n",
    "                   pooling='avg',classes=10,\n",
    "                   weights='imagenet')\n",
    "for layer in pretrained_model.layers:\n",
    "        layer.trainable=False\n",
    "\n",
    "efficientNet_model.add(pretrained_model)\n",
    "efficientNet_model.add(Flatten())\n",
    "efficientNet_model.add(Dense(512, activation='relu'))\n",
    "efficientNet_model.add(Dense(10, activation='softmax'))"
   ]
  },
  {
   "cell_type": "code",
   "execution_count": null,
   "metadata": {
    "colab": {
     "base_uri": "https://localhost:8080/"
    },
    "id": "xw0p4AFbT8N7",
    "outputId": "8bfeb72f-6351-4f15-ca0d-b4dd571317f2"
   },
   "outputs": [
    {
     "name": "stdout",
     "output_type": "stream",
     "text": [
      "Model: \"sequential_1\"\n",
      "_________________________________________________________________\n",
      " Layer (type)                Output Shape              Param #   \n",
      "=================================================================\n",
      " efficientnetb0 (Functional)  (None, 1280)             4049571   \n",
      "                                                                 \n",
      " flatten_1 (Flatten)         (None, 1280)              0         \n",
      "                                                                 \n",
      " dense_2 (Dense)             (None, 512)               655872    \n",
      "                                                                 \n",
      " dense_3 (Dense)             (None, 10)                5130      \n",
      "                                                                 \n",
      "=================================================================\n",
      "Total params: 4,710,573\n",
      "Trainable params: 661,002\n",
      "Non-trainable params: 4,049,571\n",
      "_________________________________________________________________\n"
     ]
    }
   ],
   "source": [
    "efficientNet_model.summary()"
   ]
  },
  {
   "cell_type": "code",
   "execution_count": null,
   "metadata": {
    "id": "nFRPIjhxT93c"
   },
   "outputs": [],
   "source": [
    "efficientNet_model.compile(optimizer=Adam(learning_rate=0.001),loss='categorical_crossentropy',metrics=['accuracy'])"
   ]
  },
  {
   "cell_type": "code",
   "execution_count": null,
   "metadata": {
    "colab": {
     "base_uri": "https://localhost:8080/"
    },
    "id": "2XlMgHf2T_YI",
    "outputId": "73dc29cb-d6a0-484d-d198-cb995e5a4ffe"
   },
   "outputs": [
    {
     "name": "stdout",
     "output_type": "stream",
     "text": [
      "Epoch 1/10\n",
      "536/536 [==============================] - 2598s 5s/step - loss: 0.4558 - accuracy: 0.8451 - val_loss: 0.3773 - val_accuracy: 0.8720\n",
      "Epoch 2/10\n",
      "536/536 [==============================] - 1034s 2s/step - loss: 0.2831 - accuracy: 0.9004 - val_loss: 0.3562 - val_accuracy: 0.8841\n",
      "Epoch 3/10\n",
      "536/536 [==============================] - 1055s 2s/step - loss: 0.2054 - accuracy: 0.9267 - val_loss: 0.3551 - val_accuracy: 0.8911\n",
      "Epoch 4/10\n",
      "536/536 [==============================] - 1051s 2s/step - loss: 0.1564 - accuracy: 0.9428 - val_loss: 0.3950 - val_accuracy: 0.8813\n",
      "Epoch 5/10\n",
      "536/536 [==============================] - 1051s 2s/step - loss: 0.1173 - accuracy: 0.9584 - val_loss: 0.4035 - val_accuracy: 0.8897\n",
      "Epoch 6/10\n",
      "536/536 [==============================] - 1051s 2s/step - loss: 0.0958 - accuracy: 0.9668 - val_loss: 0.4440 - val_accuracy: 0.8788\n",
      "Epoch 7/10\n",
      "536/536 [==============================] - 1050s 2s/step - loss: 0.0743 - accuracy: 0.9747 - val_loss: 0.4814 - val_accuracy: 0.8774\n",
      "Epoch 8/10\n",
      "536/536 [==============================] - 1027s 2s/step - loss: 0.0677 - accuracy: 0.9773 - val_loss: 0.5180 - val_accuracy: 0.8792\n",
      "Epoch 9/10\n",
      "536/536 [==============================] - 1012s 2s/step - loss: 0.0599 - accuracy: 0.9791 - val_loss: 0.4713 - val_accuracy: 0.8897\n",
      "Epoch 10/10\n",
      "536/536 [==============================] - 1010s 2s/step - loss: 0.0599 - accuracy: 0.9793 - val_loss: 0.5037 - val_accuracy: 0.8839\n",
      "--- 12220.421443223953 seconds ---\n"
     ]
    }
   ],
   "source": [
    "import time\n",
    "start_time = time.time()\n",
    "history = efficientNet_model.fit(train_ds, validation_data=val_ds, epochs=10)\n",
    "print(\"--- %s seconds ---\" % (time.time() - start_time))"
   ]
  }
 ],
 "metadata": {
  "colab": {
   "provenance": []
  },
  "kernelspec": {
   "display_name": "Python 3",
   "language": "python",
   "name": "python3"
  },
  "language_info": {
   "codemirror_mode": {
    "name": "ipython",
    "version": 3
   },
   "file_extension": ".py",
   "mimetype": "text/x-python",
   "name": "python",
   "nbconvert_exporter": "python",
   "pygments_lexer": "ipython3",
   "version": "3.8.8"
  }
 },
 "nbformat": 4,
 "nbformat_minor": 1
}
