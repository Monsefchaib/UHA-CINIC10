{
 "cells": [
  {
   "cell_type": "code",
   "execution_count": 1,
   "id": "82d33328",
   "metadata": {},
   "outputs": [],
   "source": [
    "import matplotlib.pyplot as plt\n",
    "import numpy as np\n",
    "import PIL\n",
    "import tensorflow as tf\n",
    "from tensorflow.keras import layers\n",
    "from keras.layers.core import Dense,Flatten\n",
    "from tensorflow.keras.models import Sequential\n",
    "from tensorflow.keras.optimizers import Adam\n",
    "from PIL import Image\n",
    "import glob\n",
    "import os, shutil"
   ]
  },
  {
   "cell_type": "code",
   "execution_count": 2,
   "id": "17b45e85",
   "metadata": {},
   "outputs": [],
   "source": [
    "data_dir = '/Users/Monsef/Downloads/cinic-10_image_classification_challenge-dataset/lowdata'"
   ]
  },
  {
   "cell_type": "code",
   "execution_count": 3,
   "id": "01845b79",
   "metadata": {},
   "outputs": [
    {
     "name": "stdout",
     "output_type": "stream",
     "text": [
      "Found 21386 files belonging to 10 classes.\n",
      "Using 17109 files for training.\n"
     ]
    }
   ],
   "source": [
    "img_height,img_width=180,180\n",
    "batch_size=30\n",
    "train_ds = tf.keras.preprocessing.image_dataset_from_directory(\n",
    "  data_dir,\n",
    "  validation_split=0.2,\n",
    "  subset=\"training\",\n",
    "  seed=123,\n",
    "  label_mode=\"categorical\",\n",
    "  image_size=(img_height, img_width),\n",
    "  batch_size=batch_size)"
   ]
  },
  {
   "cell_type": "code",
   "execution_count": 4,
   "id": "bb37660d",
   "metadata": {},
   "outputs": [
    {
     "name": "stdout",
     "output_type": "stream",
     "text": [
      "Found 21386 files belonging to 10 classes.\n",
      "Using 4277 files for validation.\n"
     ]
    }
   ],
   "source": [
    "val_ds = tf.keras.preprocessing.image_dataset_from_directory(\n",
    "  data_dir,\n",
    "  validation_split=0.2,\n",
    "  subset=\"validation\",\n",
    "  label_mode=\"categorical\",\n",
    "  seed=123,\n",
    "  image_size=(img_height, img_width),\n",
    "  batch_size=batch_size)"
   ]
  },
  {
   "cell_type": "code",
   "execution_count": 5,
   "id": "fb61e94c",
   "metadata": {},
   "outputs": [
    {
     "name": "stdout",
     "output_type": "stream",
     "text": [
      "Downloading data from https://storage.googleapis.com/tensorflow/keras-applications/densenet/densenet121_weights_tf_dim_ordering_tf_kernels_notop.h5\n",
      "29084464/29084464 [==============================] - 13s 0us/step\n"
     ]
    }
   ],
   "source": [
    "densNet_model = Sequential()\n",
    "\n",
    "pretrained_model= tf.keras.applications.DenseNet121(include_top=False,\n",
    "                   input_shape=(180,180,3),\n",
    "                   pooling='avg',classes=10,\n",
    "                   weights='imagenet')\n",
    "for layer in pretrained_model.layers:\n",
    "        layer.trainable=False\n",
    "\n",
    "densNet_model.add(pretrained_model)\n",
    "densNet_model.add(Flatten())\n",
    "densNet_model.add(Dense(512, activation='relu'))\n",
    "densNet_model.add(Dense(10, activation='softmax'))"
   ]
  },
  {
   "cell_type": "code",
   "execution_count": 7,
   "id": "a4e7c73a",
   "metadata": {
    "scrolled": true
   },
   "outputs": [
    {
     "name": "stdout",
     "output_type": "stream",
     "text": [
      "Model: \"sequential\"\n",
      "_________________________________________________________________\n",
      " Layer (type)                Output Shape              Param #   \n",
      "=================================================================\n",
      " densenet121 (Functional)    (None, 1024)              7037504   \n",
      "                                                                 \n",
      " flatten (Flatten)           (None, 1024)              0         \n",
      "                                                                 \n",
      " dense (Dense)               (None, 512)               524800    \n",
      "                                                                 \n",
      " dense_1 (Dense)             (None, 10)                5130      \n",
      "                                                                 \n",
      "=================================================================\n",
      "Total params: 7,567,434\n",
      "Trainable params: 529,930\n",
      "Non-trainable params: 7,037,504\n",
      "_________________________________________________________________\n"
     ]
    }
   ],
   "source": [
    "densNet_model.summary()"
   ]
  },
  {
   "cell_type": "code",
   "execution_count": 8,
   "id": "e2411816",
   "metadata": {},
   "outputs": [],
   "source": [
    "densNet_model.compile(optimizer=Adam(learning_rate=0.001),loss='categorical_crossentropy',metrics=['accuracy'])"
   ]
  },
  {
   "cell_type": "code",
   "execution_count": 9,
   "id": "ab77b0e6",
   "metadata": {},
   "outputs": [
    {
     "name": "stdout",
     "output_type": "stream",
     "text": [
      "Epoch 1/5\n",
      "571/571 [==============================] - 2800s 5s/step - loss: 2.0645 - accuracy: 0.3749 - val_loss: 1.5033 - val_accuracy: 0.4693\n",
      "Epoch 2/5\n",
      "571/571 [==============================] - 2197s 4s/step - loss: 1.4754 - accuracy: 0.4724 - val_loss: 1.4190 - val_accuracy: 0.5006\n",
      "Epoch 3/5\n",
      "571/571 [==============================] - 2898s 5s/step - loss: 1.3809 - accuracy: 0.5053 - val_loss: 1.3711 - val_accuracy: 0.5167\n",
      "Epoch 4/5\n",
      "571/571 [==============================] - 2856s 5s/step - loss: 1.3230 - accuracy: 0.5263 - val_loss: 1.4050 - val_accuracy: 0.5025\n",
      "Epoch 5/5\n",
      "571/571 [==============================] - 2371s 4s/step - loss: 1.2882 - accuracy: 0.5364 - val_loss: 1.3849 - val_accuracy: 0.5102\n",
      "--- 13123.4231300354 seconds ---\n"
     ]
    }
   ],
   "source": [
    "import time\n",
    "start_time = time.time() \n",
    "history = densNet_model.fit(train_ds, validation_data=val_ds, epochs=5)\n",
    "print(\"--- %s seconds ---\" % (time.time() - start_time))"
   ]
  },
  {
   "cell_type": "code",
   "execution_count": 10,
   "id": "15d8e8d3",
   "metadata": {},
   "outputs": [
    {
     "name": "stdout",
     "output_type": "stream",
     "text": [
      "Epoch 1/5\n",
      "571/571 [==============================] - 2519s 4s/step - loss: 1.2475 - accuracy: 0.5503 - val_loss: 1.3292 - val_accuracy: 0.5284\n",
      "Epoch 2/5\n",
      "571/571 [==============================] - 1764s 3s/step - loss: 1.2193 - accuracy: 0.5664 - val_loss: 1.3334 - val_accuracy: 0.5289\n",
      "Epoch 3/5\n",
      "571/571 [==============================] - 1751s 3s/step - loss: 1.1843 - accuracy: 0.5750 - val_loss: 1.3908 - val_accuracy: 0.5177\n",
      "Epoch 4/5\n",
      "571/571 [==============================] - 1608s 3s/step - loss: 1.1643 - accuracy: 0.5849 - val_loss: 1.3439 - val_accuracy: 0.5219\n",
      "Epoch 5/5\n",
      "571/571 [==============================] - 1710s 3s/step - loss: 1.1271 - accuracy: 0.5972 - val_loss: 1.3270 - val_accuracy: 0.5394\n",
      "--- 9352.504644870758 seconds ---\n"
     ]
    }
   ],
   "source": [
    "start_time = time.time() \n",
    "history = densNet_model.fit(train_ds, validation_data=val_ds, epochs=5)\n",
    "print(\"--- %s seconds ---\" % (time.time() - start_time))"
   ]
  },
  {
   "cell_type": "code",
   "execution_count": null,
   "id": "e0d84689",
   "metadata": {},
   "outputs": [],
   "source": []
  }
 ],
 "metadata": {
  "kernelspec": {
   "display_name": "Python 3",
   "language": "python",
   "name": "python3"
  },
  "language_info": {
   "codemirror_mode": {
    "name": "ipython",
    "version": 3
   },
   "file_extension": ".py",
   "mimetype": "text/x-python",
   "name": "python",
   "nbconvert_exporter": "python",
   "pygments_lexer": "ipython3",
   "version": "3.8.8"
  }
 },
 "nbformat": 4,
 "nbformat_minor": 5
}
