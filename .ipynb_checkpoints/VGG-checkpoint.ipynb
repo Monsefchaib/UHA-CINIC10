{
 "cells": [
  {
   "cell_type": "code",
   "execution_count": 1,
   "id": "98e801bd",
   "metadata": {},
   "outputs": [],
   "source": [
    "import matplotlib.pyplot as plt\n",
    "import numpy as np\n",
    "import PIL\n",
    "import tensorflow as tf\n",
    "from tensorflow.keras import layers\n",
    "from keras.layers.core import Dense,Flatten\n",
    "from tensorflow.keras.models import Sequential\n",
    "from tensorflow.keras.optimizers import Adam\n",
    "from PIL import Image\n",
    "import glob\n",
    "import os, shutil"
   ]
  },
  {
   "cell_type": "code",
   "execution_count": 2,
   "id": "d49ac17c",
   "metadata": {},
   "outputs": [],
   "source": [
    "data_dir = '/Users/Monsef/Downloads/cinic-10_image_classification_challenge-dataset/lowdata'"
   ]
  },
  {
   "cell_type": "code",
   "execution_count": 3,
   "id": "3760e02b",
   "metadata": {},
   "outputs": [
    {
     "name": "stdout",
     "output_type": "stream",
     "text": [
      "Found 21386 files belonging to 10 classes.\n",
      "Using 17109 files for training.\n"
     ]
    }
   ],
   "source": [
    "img_height,img_width=180,180\n",
    "batch_size=32\n",
    "train_ds = tf.keras.preprocessing.image_dataset_from_directory(\n",
    "  data_dir,\n",
    "  validation_split=0.2,\n",
    "  subset=\"training\",\n",
    "  seed=123,\n",
    "  label_mode=\"categorical\",\n",
    "  image_size=(img_height, img_width),\n",
    "  batch_size=batch_size)"
   ]
  },
  {
   "cell_type": "code",
   "execution_count": 4,
   "id": "57dc40ff",
   "metadata": {},
   "outputs": [
    {
     "name": "stdout",
     "output_type": "stream",
     "text": [
      "Found 21386 files belonging to 10 classes.\n",
      "Using 4277 files for validation.\n"
     ]
    }
   ],
   "source": [
    "val_ds = tf.keras.preprocessing.image_dataset_from_directory(\n",
    "  data_dir,\n",
    "  validation_split=0.2,\n",
    "  subset=\"validation\",\n",
    "  label_mode=\"categorical\",\n",
    "  seed=123,\n",
    "  image_size=(img_height, img_width),\n",
    "  batch_size=batch_size)"
   ]
  },
  {
   "cell_type": "code",
   "execution_count": 6,
   "id": "9f8e29ca",
   "metadata": {},
   "outputs": [],
   "source": [
    "vgg_model = Sequential()\n",
    "\n",
    "pretrained_model= tf.keras.applications.VGG16(include_top=False,\n",
    "                   input_shape=(180,180,3),\n",
    "                   pooling='avg',classes=10,\n",
    "                   weights='imagenet')\n",
    "for layer in pretrained_model.layers:\n",
    "        layer.trainable=False\n",
    "\n",
    "vgg_model.add(pretrained_model)\n",
    "vgg_model.add(Flatten())\n",
    "vgg_model.add(Dense(512, activation='relu'))\n",
    "vgg_model.add(Dense(10, activation='softmax'))"
   ]
  },
  {
   "cell_type": "code",
   "execution_count": 7,
   "id": "26616b48",
   "metadata": {},
   "outputs": [
    {
     "name": "stdout",
     "output_type": "stream",
     "text": [
      "Model: \"sequential_1\"\n",
      "_________________________________________________________________\n",
      " Layer (type)                Output Shape              Param #   \n",
      "=================================================================\n",
      " vgg16 (Functional)          (None, 512)               14714688  \n",
      "                                                                 \n",
      " flatten_1 (Flatten)         (None, 512)               0         \n",
      "                                                                 \n",
      " dense_2 (Dense)             (None, 512)               262656    \n",
      "                                                                 \n",
      " dense_3 (Dense)             (None, 10)                5130      \n",
      "                                                                 \n",
      "=================================================================\n",
      "Total params: 14,982,474\n",
      "Trainable params: 267,786\n",
      "Non-trainable params: 14,714,688\n",
      "_________________________________________________________________\n"
     ]
    }
   ],
   "source": [
    "vgg_model.summary()"
   ]
  },
  {
   "cell_type": "code",
   "execution_count": 8,
   "id": "4aad3fc6",
   "metadata": {},
   "outputs": [],
   "source": [
    "vgg_model.compile(optimizer=Adam(learning_rate=0.001),loss='categorical_crossentropy',metrics=['accuracy'])"
   ]
  },
  {
   "cell_type": "code",
   "execution_count": 9,
   "id": "15c76338",
   "metadata": {},
   "outputs": [
    {
     "name": "stdout",
     "output_type": "stream",
     "text": [
      "Epoch 1/10\n",
      "535/535 [==============================] - 4235s 8s/step - loss: 0.9499 - accuracy: 0.7107 - val_loss: 0.7492 - val_accuracy: 0.7552\n",
      "Epoch 2/10\n",
      "535/535 [==============================] - 4111s 8s/step - loss: 0.5195 - accuracy: 0.8209 - val_loss: 0.6493 - val_accuracy: 0.7861\n",
      "Epoch 3/10\n",
      "535/535 [==============================] - 3902s 7s/step - loss: 0.3724 - accuracy: 0.8687 - val_loss: 0.7273 - val_accuracy: 0.7793\n",
      "Epoch 4/10\n",
      "535/535 [==============================] - 3891s 7s/step - loss: 0.2780 - accuracy: 0.9003 - val_loss: 0.7535 - val_accuracy: 0.7861\n",
      "Epoch 5/10\n",
      "535/535 [==============================] - 4290s 8s/step - loss: 0.2033 - accuracy: 0.9278 - val_loss: 0.8436 - val_accuracy: 0.7889\n",
      "Epoch 6/10\n",
      "535/535 [==============================] - 3899s 7s/step - loss: 0.1615 - accuracy: 0.9439 - val_loss: 0.9171 - val_accuracy: 0.7783\n",
      "Epoch 7/10\n",
      "535/535 [==============================] - 3941s 7s/step - loss: 0.1301 - accuracy: 0.9560 - val_loss: 1.0567 - val_accuracy: 0.7625\n",
      "Epoch 8/10\n",
      "535/535 [==============================] - 4345s 8s/step - loss: 0.1012 - accuracy: 0.9665 - val_loss: 1.0837 - val_accuracy: 0.7788\n",
      "Epoch 9/10\n",
      "535/535 [==============================] - 5845s 11s/step - loss: 0.1011 - accuracy: 0.9641 - val_loss: 1.1456 - val_accuracy: 0.7805\n",
      "Epoch 10/10\n",
      "535/535 [==============================] - 3902s 7s/step - loss: 0.0999 - accuracy: 0.9663 - val_loss: 1.1896 - val_accuracy: 0.7821\n",
      "--- 42362.45763707161 seconds ---\n"
     ]
    }
   ],
   "source": [
    "import time\n",
    "start_time = time.time()\n",
    "history = vgg_model.fit(train_ds, validation_data=val_ds, epochs=10)\n",
    "print(\"--- %s seconds ---\" % (time.time() - start_time))"
   ]
  },
  {
   "cell_type": "code",
   "execution_count": null,
   "id": "68f0da72",
   "metadata": {},
   "outputs": [],
   "source": []
  }
 ],
 "metadata": {
  "kernelspec": {
   "display_name": "Python 3",
   "language": "python",
   "name": "python3"
  },
  "language_info": {
   "codemirror_mode": {
    "name": "ipython",
    "version": 3
   },
   "file_extension": ".py",
   "mimetype": "text/x-python",
   "name": "python",
   "nbconvert_exporter": "python",
   "pygments_lexer": "ipython3",
   "version": "3.8.8"
  }
 },
 "nbformat": 4,
 "nbformat_minor": 5
}
