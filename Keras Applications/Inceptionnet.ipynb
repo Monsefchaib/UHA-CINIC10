{
  "cells": [
    {
      "cell_type": "code",
      "execution_count": null,
      "metadata": {
        "id": "07VFeiZnQyja"
      },
      "outputs": [],
      "source": [
        "import matplotlib.pyplot as plt\n",
        "import numpy as np\n",
        "import PIL\n",
        "import tensorflow as tf\n",
        "from tensorflow.keras import layers\n",
        "from keras.layers.core import Dense,Flatten\n",
        "from tensorflow.keras.models import Sequential\n",
        "from tensorflow.keras.optimizers import Adam\n",
        "from PIL import Image\n",
        "import glob\n",
        "import os, shutil\n"
      ]
    },
    {
      "cell_type": "code",
      "execution_count": null,
      "metadata": {
        "id": "WYfexKmjQ3m4"
      },
      "outputs": [],
      "source": [
        "# Load the Drive helper and mount\n",
        "from google.colab import drive\n",
        "\n",
        "# This will prompt for authorization.\n",
        "drive.mount('/content/drive')"
      ]
    },
    {
      "cell_type": "code",
      "execution_count": null,
      "metadata": {
        "id": "1ujUai5MRikX"
      },
      "outputs": [],
      "source": [
        "data_dir = '/content/drive/MyDrive/lowdata'"
      ]
    },
    {
      "cell_type": "code",
      "execution_count": null,
      "metadata": {
        "id": "IFwjlUKJRngJ"
      },
      "outputs": [],
      "source": [
        "img_height,img_width=180,180\n",
        "batch_size=32\n",
        "train_ds = tf.keras.preprocessing.image_dataset_from_directory(\n",
        "  data_dir,\n",
        "  validation_split=0.2,\n",
        "  subset=\"training\",\n",
        "  seed=123,\n",
        "  label_mode=\"categorical\",\n",
        "  image_size=(img_height, img_width),\n",
        "  batch_size=batch_size)"
      ]
    },
    {
      "cell_type": "code",
      "execution_count": null,
      "metadata": {
        "id": "n9jQojOdR7CP"
      },
      "outputs": [],
      "source": [
        "class_names = train_ds.class_names\n",
        "print(class_names)"
      ]
    },
    {
      "cell_type": "code",
      "execution_count": null,
      "metadata": {
        "id": "XN4XkW2pR-rq"
      },
      "outputs": [],
      "source": [
        "val_ds = tf.keras.preprocessing.image_dataset_from_directory(\n",
        "  data_dir,\n",
        "  validation_split=0.2,\n",
        "  subset=\"validation\",\n",
        "  label_mode=\"categorical\",\n",
        "  seed=123,\n",
        "  image_size=(img_height, img_width),\n",
        "  batch_size=batch_size)"
      ]
    },
    {
      "cell_type": "code",
      "execution_count": null,
      "metadata": {
        "id": "4X83iIfhSBBP"
      },
      "outputs": [],
      "source": [
        "inceptionNet_model = Sequential()\n",
        "\n",
        "pretrained_model= tf.keras.applications.InceptionResNetV2(include_top=False,\n",
        "                   input_shape=(180,180,3),\n",
        "                   pooling='avg',classes=10,\n",
        "                   weights='imagenet')\n",
        "for layer in pretrained_model.layers:\n",
        "        layer.trainable=False\n",
        "\n",
        "inceptionNet_model.add(pretrained_model)\n",
        "inceptionNet_model.add(Flatten())\n",
        "inceptionNet_model.add(Dense(512, activation='relu'))\n",
        "inceptionNet_model.add(Dense(10, activation='softmax'))"
      ]
    },
    {
      "cell_type": "code",
      "execution_count": null,
      "metadata": {
        "id": "7_lew7fZSFxj"
      },
      "outputs": [],
      "source": [
        "inceptionNet_model.summary()"
      ]
    },
    {
      "cell_type": "code",
      "execution_count": null,
      "metadata": {
        "id": "U6vHioKpSIaa"
      },
      "outputs": [],
      "source": [
        "inceptionNet_model.compile(optimizer=Adam(learning_rate=0.001),loss='categorical_crossentropy',metrics=['accuracy'])"
      ]
    },
    {
      "cell_type": "code",
      "execution_count": null,
      "metadata": {
        "colab": {
          "background_save": true,
          "base_uri": "https://localhost:8080/"
        },
        "id": "UbIZUxWfSJ7S",
        "outputId": "e53eaafe-a493-46b5-dcae-d2451a621c40"
      },
      "outputs": [
        {
          "name": "stdout",
          "output_type": "stream",
          "text": [
            "Epoch 1/10\n",
            "536/536 [==============================] - 3523s 6s/step - loss: 39.6601 - accuracy: 0.1218 - val_loss: 2.2984 - val_accuracy: 0.1458\n",
            "Epoch 2/10\n",
            "536/536 [==============================] - 3158s 6s/step - loss: 2.2965 - accuracy: 0.1441 - val_loss: 2.2925 - val_accuracy: 0.1458\n",
            "Epoch 3/10\n",
            "536/536 [==============================] - 3166s 6s/step - loss: 2.2917 - accuracy: 0.1441 - val_loss: 2.2898 - val_accuracy: 0.1458\n",
            "Epoch 4/10\n",
            "536/536 [==============================] - 3162s 6s/step - loss: 2.2900 - accuracy: 0.1441 - val_loss: 2.2890 - val_accuracy: 0.1458\n",
            "Epoch 5/10\n",
            "536/536 [==============================] - 3162s 6s/step - loss: 2.2896 - accuracy: 0.1441 - val_loss: 2.2889 - val_accuracy: 0.1460\n",
            "Epoch 6/10\n",
            "536/536 [==============================] - 3170s 6s/step - loss: 2.2895 - accuracy: 0.1441 - val_loss: 2.2889 - val_accuracy: 0.1460\n",
            "Epoch 7/10\n",
            "536/536 [==============================] - 3125s 6s/step - loss: 2.2895 - accuracy: 0.1441 - val_loss: 2.2889 - val_accuracy: 0.1460\n",
            "Epoch 8/10\n",
            "151/536 [=======>......................] - ETA: 29:59 - loss: 2.2918 - accuracy: 0.1393"
          ]
        }
      ],
      "source": [
        "import time\n",
        "start_time = time.time()\n",
        "history = inceptionNet_model.fit(train_ds, validation_data=val_ds, epochs=7)\n",
        "print(\"--- %s seconds ---\" % (time.time() - start_time))"
      ]
    },
    {
      "cell_type": "code",
      "execution_count": null,
      "metadata": {
        "id": "i_16s142SLy5"
      },
      "outputs": [],
      "source": []
    }
  ],
  "metadata": {
    "colab": {
      "provenance": []
    },
    "kernelspec": {
      "display_name": "Python 3",
      "name": "python3"
    },
    "language_info": {
      "name": "python"
    }
  },
  "nbformat": 4,
  "nbformat_minor": 0
}